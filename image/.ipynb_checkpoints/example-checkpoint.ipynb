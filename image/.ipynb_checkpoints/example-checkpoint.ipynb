{
 "cells": [
  {
   "cell_type": "markdown",
   "id": "84176917",
   "metadata": {},
   "source": [
    "print(\"hello world\")"
   ]
  },
  {
   "cell_type": "code",
   "execution_count": 1,
   "id": "dc50e9fc",
   "metadata": {},
   "outputs": [
    {
     "name": "stdout",
     "output_type": "stream",
     "text": [
      "8.6\n",
      "-2.5999999999999996\n",
      "0.5357142857142857\n",
      "16.799999999999997\n"
     ]
    }
   ],
   "source": [
    "# 자료형\n",
    "# asfa\n",
    "# asdfaf\n",
    "\n",
    "a = 3\n",
    "b = 5.6\n",
    "\n",
    "print( a + b )\n",
    "print( a - b )\n",
    "print( a / b )\n",
    "print( a * b )\n"
   ]
  },
  {
   "cell_type": "code",
   "execution_count": 2,
   "id": "811ac3a0",
   "metadata": {},
   "outputs": [
    {
     "name": "stdout",
     "output_type": "stream",
     "text": [
      "3.3333333333333335\n",
      "3\n",
      "1\n"
     ]
    }
   ],
   "source": [
    "# 몫, 나머지\n",
    "a = 10\n",
    "b = 3\n",
    "print(a/b) \n",
    "print(a//b) # 몫\n",
    "print(a%b) # 나머지"
   ]
  },
  {
   "cell_type": "code",
   "execution_count": 3,
   "id": "e9b940d1",
   "metadata": {},
   "outputs": [
    {
     "name": "stdout",
     "output_type": "stream",
     "text": [
      "[1, 3, 5, 7, 9]\n",
      "[255, 3, 5, 7, 9]\n",
      "[255, 3]\n",
      "[255, 3, 5, 7, 9]\n"
     ]
    }
   ],
   "source": [
    "# 리스트\n",
    "odd = [1, 3, 5, 7, 9]\n",
    "\n",
    "print(odd)\n",
    "\n",
    "odd[0] = 255\n",
    "print(odd)\n",
    "\n",
    "print(odd[0:2])\n",
    "\n",
    "print(odd[0:])\n"
   ]
  },
  {
   "cell_type": "code",
   "execution_count": 4,
   "id": "ac92e599",
   "metadata": {},
   "outputs": [
    {
     "name": "stdout",
     "output_type": "stream",
     "text": [
      "합격\n"
     ]
    }
   ],
   "source": [
    "# 조건문\n",
    "\n",
    "score = 80\n",
    "\n",
    "if score >= 80:\n",
    "    print(\"합격\")\n",
    "else:\n",
    "    print(\"불합격\")\n",
    "    \n",
    "    "
   ]
  },
  {
   "cell_type": "code",
   "execution_count": 5,
   "id": "cece4d7d",
   "metadata": {},
   "outputs": [
    {
     "name": "stdout",
     "output_type": "stream",
     "text": [
      "1\n",
      "9\n",
      "25\n",
      "49\n",
      "81\n"
     ]
    }
   ],
   "source": [
    "# 반복문\n",
    "odd = [1, 3, 5, 7, 9]\n",
    "for i in range(0,5):\n",
    "    odd[i] **=2\n",
    "    print(odd[i])"
   ]
  },
  {
   "cell_type": "code",
   "execution_count": 6,
   "id": "298d03e9",
   "metadata": {},
   "outputs": [
    {
     "name": "stdout",
     "output_type": "stream",
     "text": [
      "0\n",
      "1\n",
      "2\n",
      "3\n",
      "4\n",
      "5\n",
      "6\n",
      "7\n",
      "8\n",
      "9\n"
     ]
    }
   ],
   "source": [
    "# 반복문\n",
    "\n",
    "for i in range(0,10):\n",
    "    print(i)"
   ]
  }
 ],
 "metadata": {
  "kernelspec": {
   "display_name": "Python 3 (ipykernel)",
   "language": "python",
   "name": "python3"
  },
  "language_info": {
   "codemirror_mode": {
    "name": "ipython",
    "version": 3
   },
   "file_extension": ".py",
   "mimetype": "text/x-python",
   "name": "python",
   "nbconvert_exporter": "python",
   "pygments_lexer": "ipython3",
   "version": "3.9.12"
  }
 },
 "nbformat": 4,
 "nbformat_minor": 5
}
