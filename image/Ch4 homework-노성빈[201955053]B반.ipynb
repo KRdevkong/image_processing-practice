{
 "cells": [
  {
   "cell_type": "code",
   "execution_count": null,
   "id": "3f85b8c0",
   "metadata": {},
   "outputs": [],
   "source": [
    "import cv2 #import cv2 # 영상처리 라이브러리\n",
    "import matplotlib.pyplot as plt # 시각화( 이미지 띄우기 등)\n",
    "import numpy as np # 배열처리"
   ]
  },
  {
   "cell_type": "code",
   "execution_count": null,
   "id": "c9fcd033",
   "metadata": {},
   "outputs": [],
   "source": [
    "# 이진수 앞자리 0 추가 함수\n",
    "\n",
    "def addZero(a):\n",
    "    cnt = 0 # 카운트 변수\n",
    "    for i in a:\n",
    "        cnt+=1\n",
    "    cnt = 8 - cnt #추가할 0의 개수\n",
    "    \n",
    "    if cnt == 0: # 이미 8자리라면 종료\n",
    "        return a\n",
    "    \n",
    "    for i in range(cnt): # 0 추가\n",
    "        a = \"0\" + a\n",
    "    \n",
    "    return a"
   ]
  },
  {
   "cell_type": "code",
   "execution_count": null,
   "id": "2dbafae0",
   "metadata": {
    "scrolled": true
   },
   "outputs": [],
   "source": [
    "# 함수에서 바로 출력하면 활용이 불편할거같아 output을 return에 줬습니다!"
   ]
  },
  {
   "cell_type": "code",
   "execution_count": null,
   "id": "049430a0",
   "metadata": {},
   "outputs": [],
   "source": [
    "# and 사용자 함수\n",
    "\n",
    "def logicOperatorAnd():\n",
    "    for x in range(0, h):\n",
    "        for y in range(0,w):\n",
    "            a = addZero(bin(img[x, y])[2:]) # 8 자리로 이진화\n",
    "            b = addZero(bin(int(mask[x, y]))[2:]) # 8 자리로 이진화\n",
    "            c = ''\n",
    "            for z in range(0,8):\n",
    "                if a[z]== '1' and b[z] == '1':\n",
    "                    c += '1'\n",
    "                else:\n",
    "                    c += '0'\n",
    "                \n",
    "            output[x,y] = int(c,2)\n",
    "    return output"
   ]
  },
  {
   "cell_type": "code",
   "execution_count": null,
   "id": "92b64581",
   "metadata": {},
   "outputs": [],
   "source": [
    "# OR 사용자 함수\n",
    "\n",
    "def logicOperatorOr():\n",
    "    for x in range(0, h):\n",
    "        for y in range(0,w):\n",
    "            a = addZero(bin(img[x, y])[2:]) # 8 자리로 이진화\n",
    "            b = addZero(bin(int(mask[x, y]))[2:]) # 8 자리로 이진화\n",
    "            c = ''\n",
    "            for z in range(0,8):\n",
    "                if a[z]== '1' or b[z] == '1':\n",
    "                    c += '1'\n",
    "                else:\n",
    "                    c += '0'\n",
    "            output[x,y] = int(c, 2)\n",
    "    return output"
   ]
  },
  {
   "cell_type": "code",
   "execution_count": null,
   "id": "41b13eaa",
   "metadata": {},
   "outputs": [],
   "source": [
    "# xor 사용자 함수\n",
    "\n",
    "def logicOperatorXor():\n",
    "    for x in range(0, h):\n",
    "        for y in range(0,w):\n",
    "            a = addZero(bin(img[x, y])[2:]) # 8 자리로 이진화\n",
    "            b = addZero(bin(int(mask[x, y]))[2:]) # 8 자리로 이진화\n",
    "            c = ''\n",
    "            for z in range(0,8):\n",
    "                if a[z] == b[z]:\n",
    "                    c += '0'\n",
    "                else:\n",
    "                    c += '1'\n",
    "            output[x,y] = int(c,2)\n",
    "    return output"
   ]
  },
  {
   "cell_type": "code",
   "execution_count": null,
   "id": "3fa6d484",
   "metadata": {},
   "outputs": [],
   "source": [
    "# not 사용자 함수\n",
    "\n",
    "def logicOperatorNot(input):\n",
    "    for x in range(0, h):\n",
    "        for y in range(0,w):\n",
    "            a = addZero(bin(int(input[x, y]))[2:]) # 8 자리로 이진화\n",
    "            b = ''\n",
    "            for z in range(0,8):\n",
    "                if a[z] == '0':\n",
    "                    b += '1'\n",
    "                else:\n",
    "                    b += '0'\n",
    "            output[x,y] = int(b,2)\n",
    "    return output"
   ]
  },
  {
   "cell_type": "code",
   "execution_count": null,
   "id": "6769a58a",
   "metadata": {},
   "outputs": [],
   "source": [
    "# 입력 이미지, 마스크 입력\n",
    "\n",
    "img = cv2.imread(\"images/lenna.png\", cv2.IMREAD_GRAYSCALE) # img에 Grayscale로 lenna 선언\n",
    "h, w = img.shape # h, w에 이미지 크기 선언\n",
    "mask = cv2.circle(np.zeros((h,w)), (np.uint8(h/2), np.uint8(w/2)), 80, 255, -1) # 마스크 모양, 위치, 크기, 테두리 굵기 선언\n",
    "output = np.zeros((h,w)) # 크기가 h*w인 0 배열 선언"
   ]
  },
  {
   "cell_type": "code",
   "execution_count": null,
   "id": "8a6a29d6",
   "metadata": {},
   "outputs": [],
   "source": [
    "plt.imshow(logicOperatorAnd()) # And 사용자 함수 실행"
   ]
  },
  {
   "cell_type": "code",
   "execution_count": null,
   "id": "0cbeab87",
   "metadata": {},
   "outputs": [],
   "source": [
    "plt.imshow(logicOperatorOr()) # Or 사용자 함수 실행"
   ]
  },
  {
   "cell_type": "code",
   "execution_count": null,
   "id": "9c715269",
   "metadata": {},
   "outputs": [],
   "source": [
    "plt.imshow(logicOperatorXor()) # Xor 사용자 함수 실행"
   ]
  },
  {
   "cell_type": "code",
   "execution_count": null,
   "id": "1e1dbb89",
   "metadata": {},
   "outputs": [],
   "source": [
    "plt.imshow(logicOperatorNot(img)) # Not 사용자 함수 실행(img)"
   ]
  },
  {
   "cell_type": "code",
   "execution_count": null,
   "id": "90a3e87e",
   "metadata": {},
   "outputs": [],
   "source": [
    "plt.imshow(logicOperatorNot(mask)) # Not사용자 함수 실행(mask)"
   ]
  },
  {
   "cell_type": "code",
   "execution_count": null,
   "id": "5de6fdc3",
   "metadata": {},
   "outputs": [],
   "source": [
    "# and\n",
    "for x in range(0, h):\n",
    "    for y in range(0,w):\n",
    "        a = addZero(bin(img[x, y])[2:]) # 8 자리로 이진화\n",
    "        b = addZero(bin(int(mask[x, y]))[2:]) # 8 자리로 이진화\n",
    "        c = ''\n",
    "        for z in range(0,8):\n",
    "            if a[z]== '1' and b[z] == '1':\n",
    "                c += '1'\n",
    "            else:\n",
    "                c += '0'\n",
    "        output[x,y] = int(c, 2)\n",
    "plt.imshow(output)"
   ]
  },
  {
   "cell_type": "code",
   "execution_count": null,
   "id": "a7ba67ff",
   "metadata": {},
   "outputs": [],
   "source": [
    "# or\n",
    "\n",
    "for x in range(0, h):\n",
    "    for y in range(0,w):\n",
    "        a = addZero(bin(img[x, y])[2:]) # 8 자리로 이진화\n",
    "        b = addZero(bin(int(mask[x, y]))[2:]) # 8 자리로 이진화\n",
    "        c = ''\n",
    "        for z in range(0,8):\n",
    "            if a[z]== '1' or b[z] == '1':\n",
    "                c += '1'\n",
    "            else:\n",
    "                c += '0'\n",
    "        output[x,y] = int(c, 2)\n",
    "plt.imshow(output)"
   ]
  },
  {
   "cell_type": "code",
   "execution_count": null,
   "id": "73d16121",
   "metadata": {},
   "outputs": [],
   "source": [
    "# xor\n",
    "\n",
    "for x in range(0, h):\n",
    "    for y in range(0,w):\n",
    "        a = addZero(bin(img[x, y])[2:]) # 8 자리로 이진화\n",
    "        b = addZero(bin(int(mask[x, y]))[2:]) # 8 자리로 이진화\n",
    "        c = ''\n",
    "        for z in range(0,8):\n",
    "            if a[z] == b[z]:\n",
    "                c += '0'\n",
    "            else:\n",
    "                c += '1'\n",
    "        output[x,y] = int(c, 2)\n",
    "plt.imshow(output)"
   ]
  },
  {
   "cell_type": "code",
   "execution_count": null,
   "id": "1ae26621",
   "metadata": {},
   "outputs": [],
   "source": [
    "#not\n",
    "\n",
    "input = img\n",
    "for x in range(0, h):\n",
    "    for y in range(0,w):\n",
    "        a = addZero(bin(int(input[x, y]))[2:]) # 8 자리로 이진화\n",
    "        b = ''\n",
    "        for z in range(0,8):\n",
    "            if a[z] == '0':\n",
    "                b += '1'\n",
    "            else:\n",
    "                b += '0'\n",
    "        output[x,y] = int(b, 2)\n",
    "plt.imshow(output)"
   ]
  }
 ],
 "metadata": {
  "kernelspec": {
   "display_name": "Python 3 (ipykernel)",
   "language": "python",
   "name": "python3"
  },
  "language_info": {
   "codemirror_mode": {
    "name": "ipython",
    "version": 3
   },
   "file_extension": ".py",
   "mimetype": "text/x-python",
   "name": "python",
   "nbconvert_exporter": "python",
   "pygments_lexer": "ipython3",
   "version": "3.9.12"
  }
 },
 "nbformat": 4,
 "nbformat_minor": 5
}
