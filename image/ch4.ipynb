{
 "cells": [
  {
   "cell_type": "code",
   "execution_count": 1,
   "id": "ee1421a6",
   "metadata": {},
   "outputs": [],
   "source": [
    "import cv2 #import cv2 # 영상처리 라이브러리\n",
    "import matplotlib.pyplot as plt # 시각화( 이미지 띄우기 등)\n",
    "import numpy as np # 배열처리"
   ]
  },
  {
   "cell_type": "code",
   "execution_count": 2,
   "id": "49b715d0",
   "metadata": {},
   "outputs": [],
   "source": [
    "# 일반화\n",
    "def calcArith(img, alpha, beta):\n",
    "    output = np.zeros((h,w))\n",
    "    for x in range(0,h):\n",
    "        for y in range(0,w):\n",
    "            output[x,y] = alpha * img[x,y] + beta\n",
    "            for x in range(0,h):\n",
    "                 for y in range(0,w):\n",
    "                    if alpha * img[x,y] + beta > 255:\n",
    "                        output[x,y] = 255\n",
    "                    elif alpha * img[x,y] + beta < 0:\n",
    "                        output[x,y] = 0\n",
    "                    else:\n",
    "                        output[x,y] = alpha * img[x,y] + beta\n",
    "    return np.uint8(output)"
   ]
  },
  {
   "cell_type": "code",
   "execution_count": 3,
   "id": "fa2a2bc5",
   "metadata": {},
   "outputs": [
    {
     "name": "stdout",
     "output_type": "stream",
     "text": [
      "220 220\n"
     ]
    }
   ],
   "source": [
    "# 이미지 불러오기\n",
    "img = cv2.imread(\"images/Lenna.png\", cv2.IMREAD_GRAYSCALE)\n",
    "h,w = img.shape\n",
    "\n",
    "print(h,w)"
   ]
  },
  {
   "cell_type": "code",
   "execution_count": 4,
   "id": "643ce9ce",
   "metadata": {},
   "outputs": [
    {
     "name": "stdout",
     "output_type": "stream",
     "text": [
      "[[169 169 168 ... 172 178 155]\n",
      " [169 168 168 ... 175 183 159]\n",
      " [170 167 168 ... 151 133 100]\n",
      " ...\n",
      " [ 60  62  65 ...  83  99 103]\n",
      " [ 57  62  62 ...  96 111 112]\n",
      " [ 54  62  60 ... 107 117 119]]\n",
      "[[169 169 168 ... 172 178 155]\n",
      " [169 168 168 ... 175 183 159]\n",
      " [170 167 168 ... 151 133 100]\n",
      " ...\n",
      " [ 60  62  65 ...  83  99 103]\n",
      " [ 57  62  62 ...  96 111 112]\n",
      " [ 54  62  60 ... 107 117 119]]\n",
      "[[0. 0. 0. ... 0. 0. 0.]\n",
      " [0. 0. 0. ... 0. 0. 0.]\n",
      " [0. 0. 0. ... 0. 0. 0.]\n",
      " ...\n",
      " [0. 0. 0. ... 0. 0. 0.]\n",
      " [0. 0. 0. ... 0. 0. 0.]\n",
      " [0. 0. 0. ... 0. 0. 0.]]\n",
      "[[169. 169. 168. ... 172. 178. 155.]\n",
      " [169. 168. 168. ... 175. 183. 159.]\n",
      " [170. 167. 168. ... 151. 133. 100.]\n",
      " ...\n",
      " [ 60.  62.  65. ...  83.  99. 103.]\n",
      " [ 57.  62.  62. ...  96. 111. 112.]\n",
      " [ 54.  62.  60. ... 107. 117. 119.]]\n"
     ]
    }
   ],
   "source": [
    "# 덧셈\n",
    "\n",
    "#방법 1. 행렬(배열)의 특성을 이용하기\n",
    "\n",
    "beta = 1\n",
    "output1 = img+ beta\n",
    "print(output1)\n",
    "\n",
    "\n",
    "#방법 2. cv2 함수 이용하기\n",
    "\n",
    "output2 = cv2.add(img,beta)\n",
    "print(output2)\n",
    "\n",
    "#방법 3. 반복문 이용하기 : 공학적 접근\n",
    "\n",
    "output3 = np.zeros((h,w))\n",
    "print(output3)\n",
    "for x in range(0,h):\n",
    "    for y in range(0,w):\n",
    "        #g(x,y) = alpha * f(x,y) + beta\n",
    "        output3[x,y] = img[x,y] + beta\n",
    "print(output3)"
   ]
  },
  {
   "cell_type": "code",
   "execution_count": 5,
   "id": "d58e0901",
   "metadata": {},
   "outputs": [
    {
     "name": "stdout",
     "output_type": "stream",
     "text": [
      "[[167 167 166 ... 170 176 153]\n",
      " [167 166 166 ... 173 181 157]\n",
      " [168 165 166 ... 149 131  98]\n",
      " ...\n",
      " [ 58  60  63 ...  81  97 101]\n",
      " [ 55  60  60 ...  94 109 110]\n",
      " [ 52  60  58 ... 105 115 117]]\n",
      "[[167 167 166 ... 170 176 153]\n",
      " [167 166 166 ... 173 181 157]\n",
      " [168 165 166 ... 149 131  98]\n",
      " ...\n",
      " [ 58  60  63 ...  81  97 101]\n",
      " [ 55  60  60 ...  94 109 110]\n",
      " [ 52  60  58 ... 105 115 117]]\n",
      "[[0. 0. 0. ... 0. 0. 0.]\n",
      " [0. 0. 0. ... 0. 0. 0.]\n",
      " [0. 0. 0. ... 0. 0. 0.]\n",
      " ...\n",
      " [0. 0. 0. ... 0. 0. 0.]\n",
      " [0. 0. 0. ... 0. 0. 0.]\n",
      " [0. 0. 0. ... 0. 0. 0.]]\n",
      "[[167. 167. 166. ... 170. 176. 153.]\n",
      " [167. 166. 166. ... 173. 181. 157.]\n",
      " [168. 165. 166. ... 149. 131.  98.]\n",
      " ...\n",
      " [ 58.  60.  63. ...  81.  97. 101.]\n",
      " [ 55.  60.  60. ...  94. 109. 110.]\n",
      " [ 52.  60.  58. ... 105. 115. 117.]]\n"
     ]
    }
   ],
   "source": [
    "# 뺄셈\n",
    "\n",
    "#방법 1. 행렬(배열)의 특성을 이용하기\n",
    "\n",
    "beta = 1\n",
    "output1 = img - beta\n",
    "print(output1)\n",
    "\n",
    "\n",
    "#방법 2. cv2 함수 이용하기\n",
    "\n",
    "output2 = cv2.subtract(img,beta)\n",
    "print(output2)\n",
    "\n",
    "#방법 3. 반복문 이용하기 : 공학적 접근\n",
    "\n",
    "output3 = np.zeros((h,w))\n",
    "print(output3)\n",
    "for x in range(0,h):\n",
    "    for y in range(0,w):\n",
    "        #g(x,y) = alpha * f(x,y) + beta\n",
    "        output3[x,y] = img[x,y] - beta\n",
    "print(output3)"
   ]
  },
  {
   "cell_type": "code",
   "execution_count": null,
   "id": "37a3ad4e",
   "metadata": {},
   "outputs": [],
   "source": [
    "# \\곱셈\n",
    "\n",
    "#방법 1. 행렬(배열)의 특성을 이용하기\n",
    "alpha = 2\n",
    "beta = 1\n",
    "output1 = img * alpha\n",
    "print(output1)\n",
    "\n",
    "\n",
    "#방법 2. cv2 함수 이용하기\n",
    "\n",
    "output2 = cv2.multiply(img,alpha)\n",
    "print(output2)\n",
    "\n",
    "#방법 3. 반복문 이용하기 : 공학적 접근\n",
    "\n",
    "output3 = np.zeros((h,w))\n",
    "print(output3)\n",
    "for x in range(0,h):\n",
    "    for y in range(0,w):\n",
    "        #g(x,y) = alpha * f(x,y) + beta\n",
    "        output3[x,y] = img[x,y] *alpha\n",
    "print(output3)"
   ]
  },
  {
   "cell_type": "code",
   "execution_count": null,
   "id": "67b46bca",
   "metadata": {},
   "outputs": [],
   "source": [
    "# 나눗셈\n",
    "\n",
    "#방법 1. 행렬(배열)의 특성을 이용하기\n",
    "alpha = 2\n",
    "beta = 1\n",
    "output1 = img / alpha\n",
    "print(output1)\n",
    "\n",
    "\n",
    "#방법 2. cv2 함수 이용하기\n",
    "\n",
    "output2 = cv2.divide(img,alpha)\n",
    "print(output2)\n",
    "\n",
    "#방법 3. 반복문 이용하기 : 공학적 접근\n",
    "\n",
    "output3 = np.zeros((h,w))\n",
    "print(output3)\n",
    "for x in range(0,h):\n",
    "    for y in range(0,w):\n",
    "        #g(x,y) = alpha * f(x,y) + beta\n",
    "        output3[x,y] = img[x,y] / alpha\n",
    "print(np.uint8(output3))"
   ]
  },
  {
   "cell_type": "code",
   "execution_count": null,
   "id": "5e38020e",
   "metadata": {},
   "outputs": [],
   "source": [
    "calcArith(img, 1, 20) # 덧셈\n",
    "calcArith(img, 1, -20) # 뺄셈\n",
    "calcArith(img, 2, 0) # 곱셈\n",
    "calcArith(img, 1/2, 0) # 나눗셈"
   ]
  },
  {
   "cell_type": "code",
   "execution_count": null,
   "id": "f731cec7",
   "metadata": {},
   "outputs": [],
   "source": [
    "# 산술연산의 문제점 해결하기\n"
   ]
  },
  {
   "cell_type": "code",
   "execution_count": null,
   "id": "f1835adb",
   "metadata": {},
   "outputs": [],
   "source": [
    "# 방법 1. 클램핑 : 음수 = 0 ,255 이상 = 255\n",
    "img = cv2.imread(\"images/Lenna.png\", cv2.IMREAD_GRAYSCALE)\n",
    "output = np.zeros((h,w))\n",
    "for x in range(0,h):\n",
    "     for y in range(0,w):\n",
    "        if alpha * img[x,y] + beta > 255:\n",
    "            output[x,y] = 255\n",
    "        elif alpha * img[x,y] + beta < 0:\n",
    "            output[x,y] = 0\n",
    "        else:\n",
    "            output[x,y] = alpha * img[x,y] + beta\n",
    "output[x,y] = alpha * img[x,y] + beta\n",
    "print(img)\n",
    "print(output)"
   ]
  },
  {
   "cell_type": "code",
   "execution_count": null,
   "id": "0e169146",
   "metadata": {},
   "outputs": [],
   "source": [
    "# 방법 2. 랩핑: 음수 = 0, 255 이상은\n",
    "img = cv2.imread(\"images/Lenna.png\", cv2.IMREAD_GRAYSCALE)\n",
    "output = np.zeros((h,w))\n",
    "for x in range(0,h):\n",
    "     for y in range(0,w):\n",
    "        if alpha * img[x,y] + beta > 255:\n",
    "            output[x,y] = (alpha * img[x,y] + beta)//256\n",
    "        elif alpha * img[x,y] + beta < 0:\n",
    "            output[x,y] = 0\n",
    "        else:\n",
    "            output[x,y] = alpha * img[x,y] + beta\n",
    "output[x,y] = alpha * img[x,y] + beta\n",
    "print(img)\n",
    "print(output)"
   ]
  },
  {
   "cell_type": "code",
   "execution_count": null,
   "id": "e4600e84",
   "metadata": {},
   "outputs": [],
   "source": [
    "# 실습 3 논리연산\n",
    "\n",
    "# 이미지 읽어오기\n",
    "img = cv2.imread(\"images/Lenna.png\", cv2.IMREAD_GRAYSCALE)\n",
    "h, w =img.shape\n",
    "\n",
    "print(h, w)\n",
    "# 원 모양의 마스크 생성하기\n",
    "mask = cv2.circle(np.zeros((h,w)), np.uint8(h/2, np.uint8w/2), 80, 255, -1)\n",
    "mask - np.uint8(mask)\n",
    "\n",
    "# cv2 사용해서 논리연산 수행히기\n",
    "and_img = cv2. bitwise_and(img.mask)\n",
    "or_img = cv2. bitwise_or(img.mask)\n",
    "xor_img = cv2. bitwise_xor(img.mask)\n",
    "not_img = cv2. bitwise_not(img.mask)\n",
    "# 출력하기(시각화)\n",
    "plt.subplot(2,3,1)plt.imshow(img.cmap = 'gray')\n",
    "plt.subplot(2,3,2)plt.imshow(and_img.cmap = 'gray')\n",
    "plt.subplot(2,3,3)plt.imshow(or_img.cmap = 'gray')\n",
    "plt.subplot(2,3,4)plt.imshow(xor_img.cmap = 'gray')\n",
    "plt.subplot(2,3,5)plt.imshow(not_img.cmap = 'gray')"
   ]
  },
  {
   "cell_type": "code",
   "execution_count": null,
   "id": "3eaf3e0d",
   "metadata": {},
   "outputs": [],
   "source": [
    "# 과제, 논리연산 공학적으로 구현하기\n",
    "\n",
    "for x in range(0,h):\n",
    "    for y in range(0,w):\n",
    "        img[x,y]\n",
    "        bin()\n",
    "        for k in range(0,8):\n",
    "            \n",
    "            \n",
    "# 1. 픽셀값의 잉진수\n",
    "print(bin(181)[2:]) #string\n",
    "print(bin(255([2:])))\n",
    "\n",
    "# 2. 비교, 비트별로 논리연산\n",
    "for k in range(0,8): \n"
   ]
  },
  {
   "cell_type": "code",
   "execution_count": null,
   "id": "f0809ef4",
   "metadata": {},
   "outputs": [],
   "source": [
    "# 실습 4\n",
    "\n",
    "#null transform : y = 1 * x + 0\n",
    "null_img = np.zeros((h,w))\n",
    "for x in range(0,h):\n",
    "    for y in range(0,w):\n",
    "        null_img[x,y] = a * img[x,y] + b\n",
    "        \n",
    "plt.subplot(1,2,1)plt.imshow(img.cmap = 'gray')\n",
    "plt.subplot(1,2,2)plt.imshow(and_img.cmap = 'gray')"
   ]
  },
  {
   "cell_type": "code",
   "execution_count": null,
   "id": "044ffd9c",
   "metadata": {},
   "outputs": [],
   "source": [
    "#null transform : y = 1 * x + 0\n",
    "a = -1\n",
    "b = 255\n",
    "\n",
    "null_img = np.zeros((h,w))\n",
    "for x in range(0,h):\n",
    "    for y in range(0,w):\n",
    "        null_img[x,y] = a * img[x,y] + b\n",
    "        \n",
    "plt.subplot(1,2,1)plt.imshow(img.cmap = 'gray')\n",
    "plt.subplot(1,2,2)plt.imshow(and_img.cmap = 'gray')"
   ]
  },
  {
   "cell_type": "code",
   "execution_count": null,
   "id": "ee256acc",
   "metadata": {},
   "outputs": [],
   "source": [
    "a = -1\n",
    "b = 255\n",
    "gamma = 4\n",
    "gamma_img = np.zeros((h,w))\n",
    "\n",
    "for x in range(0,h):\n",
    "    for y in range(0,w):\n",
    "        null_img[x,y] = a * (img[x,y]/255)**(gamma) * 255\n",
    "        \n",
    "gamma_img = np.unit8(gamma_img)\n",
    "\n",
    "plt.subplot(1,2,1)plt.imshow(img.cmap = 'gray')\n",
    "plt.subplot(1,2,2)plt.imshow(and_img.cmap = 'gray')"
   ]
  },
  {
   "cell_type": "code",
   "execution_count": null,
   "id": "e6f7e25b",
   "metadata": {},
   "outputs": [],
   "source": [
    "a = (255-0)/(200-50)\n",
    "b = -a*50\n",
    "\n",
    "ics_img = np.zeros((h,w))\n",
    "for x in range(0,h):\n",
    "    for y in range(0,w):\n",
    "        if imt[x,y] < 50:\n",
    "            ics_img[x,y] = 0\n",
    "        elif img[x,y] > 200:\n",
    "            ics_img[x,y]=255\n",
    "        else\n",
    "             ics_img[x,y] = a * img[x,y] + b\n",
    "       \n",
    "        \n",
    "plt.subplot(1,2,1)plt.imshow(img.cmap = 'gray')\n",
    "plt.subplot(1,2,2)plt.imshow(and_img.cmap = 'gray')"
   ]
  },
  {
   "cell_type": "code",
   "execution_count": null,
   "id": "529bac89",
   "metadata": {},
   "outputs": [],
   "source": [
    "a = (200-50)/(255-0)\n",
    "b = 50\n",
    "\n",
    "icc_img = np.zeros((h,w))\n",
    "for x in range(0,h):\n",
    "    for y in range(0,w):\n",
    "        if imt[x,y] < 50:\n",
    "            icc_img[x,y] = 0\n",
    "        elif img[x,y] > 200:\n",
    "            icc_img[x,y]=255\n",
    "        else\n",
    "             icc_img[x,y] = a * img[x,y] + b\n",
    "       \n",
    "        \n",
    "plt.subplot(1,2,1)plt.imshow(img.cmap = 'gray')\n",
    "plt.subplot(1,2,2)plt.imshow(and_img.cmap = 'gray')"
   ]
  }
 ],
 "metadata": {
  "kernelspec": {
   "display_name": "Python 3 (ipykernel)",
   "language": "python",
   "name": "python3"
  },
  "language_info": {
   "codemirror_mode": {
    "name": "ipython",
    "version": 3
   },
   "file_extension": ".py",
   "mimetype": "text/x-python",
   "name": "python",
   "nbconvert_exporter": "python",
   "pygments_lexer": "ipython3",
   "version": "3.9.12"
  }
 },
 "nbformat": 4,
 "nbformat_minor": 5
}
