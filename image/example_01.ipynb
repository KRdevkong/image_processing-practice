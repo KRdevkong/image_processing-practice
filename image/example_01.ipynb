{
 "cells": [
  {
   "cell_type": "code",
   "execution_count": 4,
   "id": "27a59746",
   "metadata": {},
   "outputs": [],
   "source": [
    "import cv2 # 영상처리 라이브러리\n",
    "import matplotlib.pyplot as plt # 시각화( 이미지 띄우기 등)\n",
    "import numpy as np # 배열처리"
   ]
  },
  {
   "cell_type": "code",
   "execution_count": null,
   "id": "9e69e2cc",
   "metadata": {},
   "outputs": [],
   "source": []
  },
  {
   "cell_type": "code",
   "execution_count": 6,
   "id": "38ba1e89",
   "metadata": {},
   "outputs": [],
   "source": [
    "# 이미지 불러오기 읽어오기\n",
    "img = cv2.imread(\"images/Lenna.png\", cv2.IMREAD_GRAYSCALE)\n",
    "\n",
    "cv2.imshow(\"lenna\",img)\n",
    "cv2.waitKey(0) # 키 입력까지 대기\n",
    "cv2.destroyAllWindows() # 모든 창 종료"
   ]
  },
  {
   "cell_type": "code",
   "execution_count": 7,
   "id": "b0adbe99",
   "metadata": {},
   "outputs": [
    {
     "data": {
      "text/plain": [
       "True"
      ]
     },
     "execution_count": 7,
     "metadata": {},
     "output_type": "execute_result"
    }
   ],
   "source": [
    "# 출력\n",
    "\n",
    "# img에 변환된 lenna 추가\n",
    "img1 = cv2.imread(\"images/lenna.png\", cv2.IMREAD_UNCHANGED)\n",
    "img2 = cv2.imread(\"images/lenna.png\", cv2.IMREAD_GRAYSCALE)\n",
    "img3 = cv2.imread(\"images/lenna.png\", cv2.IMREAD_COLOR)\n",
    "\n",
    "# output 폴더에 변환된 lenna 저장\n",
    "cv2.imwrite(\"output/UNCAHANGED_lenna.png\", img1)\n",
    "cv2.imwrite(\"output/GRAYSCALE_lenna.png\", img2)\n",
    "cv2.imwrite(\"output/COLOR_lenna.png\", img3)"
   ]
  },
  {
   "cell_type": "code",
   "execution_count": 12,
   "id": "1866fe7e",
   "metadata": {},
   "outputs": [
    {
     "data": {
      "text/plain": [
       "<matplotlib.image.AxesImage at 0x26d582b9e80>"
      ]
     },
     "execution_count": 12,
     "metadata": {},
     "output_type": "execute_result"
    },
    {
     "data": {
      "image/png": "[encoded data removed]",
      "text/plain": [
       "<Figure size 144x144 with 1 Axes>"
      ]
     },
     "metadata": {
      "needs_background": "light"
     },
     "output_type": "display_data"
    }
   ],
   "source": [
    "fig = plt.figure(figsize=(2,2)) # 창 크기를 2,2 로 생성\n",
    "plt.imshow(img, cmap = 'gray') #\n"
   ]
  },
  {
   "cell_type": "code",
   "execution_count": 30,
   "id": "26a54c69",
   "metadata": {},
   "outputs": [
    {
     "name": "stdout",
     "output_type": "stream",
     "text": [
      "2\n",
      "4\n",
      "5\n",
      "8\n",
      "10\n",
      "[0 2 3 6 8]\n"
     ]
    }
   ],
   "source": [
    "odd = [1, 3, 4, 7, 9]\n",
    "\n",
    "#print(odd[3])\n",
    "\n",
    "for i in range(0,5):\n",
    "    print(odd[i] + 1)\n",
    "    \n",
    "print(np.array(odd) -1)\n"
   ]
  },
  {
   "cell_type": "code",
   "execution_count": 35,
   "id": "7c8e1b90",
   "metadata": {},
   "outputs": [
    {
     "name": "stdout",
     "output_type": "stream",
     "text": [
      "[[ 1  3  5  7  9]\n",
      " [ 2  4  6  8 10]]\n"
     ]
    }
   ],
   "source": [
    "odd = [1,3,5,7,9]\n",
    "odd = np.array([[1,3,5,7,9],[2,4,6,8,10]])\n",
    "print(odd)"
   ]
  },
  {
   "cell_type": "code",
   "execution_count": 38,
   "id": "4a53ae2a",
   "metadata": {},
   "outputs": [
    {
     "name": "stdout",
     "output_type": "stream",
     "text": [
      "[[ 1  3  5  7  9]\n",
      " [ 2  4  6  8 10]]\n",
      "[[ 2.  4.  6.  8. 10.]\n",
      " [ 3.  5.  7.  9. 11.]]\n"
     ]
    }
   ],
   "source": [
    "img = np.array([[1,3,5,7,9],[2,4,6,8,10]])\n",
    "out = np.zeros((2,5))\n",
    "for i in range(0,2):\n",
    "    for j in range(0,5):\n",
    "        out[i,j] = img[i,j] + 1\n",
    "        \n",
    "print(img)\n",
    "print(out)"
   ]
  },
  {
   "cell_type": "code",
   "execution_count": 40,
   "id": "578b2bb3",
   "metadata": {},
   "outputs": [
    {
     "name": "stdout",
     "output_type": "stream",
     "text": [
      "5.5\n"
     ]
    }
   ],
   "source": [
    "print(np.mean(img))"
   ]
  },
  {
   "cell_type": "code",
   "execution_count": 43,
   "id": "1d9f01f1",
   "metadata": {},
   "outputs": [
    {
     "name": "stdout",
     "output_type": "stream",
     "text": [
      "2 5\n"
     ]
    }
   ],
   "source": [
    "h, w = img.shape\n",
    "print(h,w)"
   ]
  },
  {
   "cell_type": "code",
   "execution_count": 44,
   "id": "0af2dc33",
   "metadata": {},
   "outputs": [
    {
     "name": "stdout",
     "output_type": "stream",
     "text": [
      "[[ 1  3  5  7  9]\n",
      " [ 2  4  6  8 10]]\n",
      "[1 3 5 7 9]\n",
      "[1 2]\n"
     ]
    }
   ],
   "source": [
    "print(img)\n",
    "\n",
    "print(img[0,:])\n",
    "print(img[:,0])"
   ]
  }
 ],
 "metadata": {
  "kernelspec": {
   "display_name": "Python 3 (ipykernel)",
   "language": "python",
   "name": "python3"
  },
  "language_info": {
   "codemirror_mode": {
    "name": "ipython",
    "version": 3
   },
   "file_extension": ".py",
   "mimetype": "text/x-python",
   "name": "python",
   "nbconvert_exporter": "python",
   "pygments_lexer": "ipython3",
   "version": "3.9.12"
  }
 },
 "nbformat": 4,
 "nbformat_minor": 5
}
